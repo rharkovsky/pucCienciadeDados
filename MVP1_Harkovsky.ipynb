{
  "nbformat": 4,
  "nbformat_minor": 0,
  "metadata": {
    "colab": {
      "provenance": [],
      "toc_visible": true,
      "authorship_tag": "ABX9TyOhhKGCjQoya9Q7M6TXPQh9",
      "include_colab_link": true
    },
    "kernelspec": {
      "name": "python3",
      "display_name": "Python 3"
    },
    "language_info": {
      "name": "python"
    }
  },
  "cells": [
    {
      "cell_type": "markdown",
      "metadata": {
        "id": "view-in-github",
        "colab_type": "text"
      },
      "source": [
        "<a href=\"https://colab.research.google.com/github/rharkovsky/pucCienciadeDados/blob/main/MVP1_Harkovsky.ipynb\" target=\"_parent\"><img src=\"https://colab.research.google.com/assets/colab-badge.svg\" alt=\"Open In Colab\"/></a>"
      ]
    },
    {
      "cell_type": "markdown",
      "source": [],
      "metadata": {
        "id": "2ZqJmzSOoNEP"
      }
    },
    {
      "cell_type": "markdown",
      "source": [
        "# **INICIALIZAÇÕES**"
      ],
      "metadata": {
        "id": "f_E7Iu6zoeDl"
      }
    },
    {
      "cell_type": "code",
      "source": [],
      "metadata": {
        "id": "xFAZypgHoOGS"
      },
      "execution_count": null,
      "outputs": []
    }
  ]
}