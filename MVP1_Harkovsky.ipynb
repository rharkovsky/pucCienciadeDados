{
  "nbformat": 4,
  "nbformat_minor": 0,
  "metadata": {
    "colab": {
      "provenance": [],
      "toc_visible": true,
      "authorship_tag": "ABX9TyPKNFpuwB79M9Zv6j4MbJSC",
      "include_colab_link": true
    },
    "kernelspec": {
      "name": "python3",
      "display_name": "Python 3"
    },
    "language_info": {
      "name": "python"
    }
  },
  "cells": [
    {
      "cell_type": "markdown",
      "metadata": {
        "id": "view-in-github",
        "colab_type": "text"
      },
      "source": [
        "<a href=\"https://colab.research.google.com/github/rharkovsky/pucCienciadeDados/blob/main/MVP1_Harkovsky.ipynb\" target=\"_parent\"><img src=\"https://colab.research.google.com/assets/colab-badge.svg\" alt=\"Open In Colab\"/></a>"
      ]
    },
    {
      "cell_type": "markdown",
      "source": [],
      "metadata": {
        "id": "2ZqJmzSOoNEP"
      }
    },
    {
      "cell_type": "markdown",
      "source": [
        "# **# MVP Análise Exploratória de Dados - ROBERTO HARKOVSKY**"
      ],
      "metadata": {
        "id": "f_E7Iu6zoeDl"
      }
    },
    {
      "cell_type": "markdown",
      "source": [
        "\n",
        "\n",
        "\n",
        "\n"
      ],
      "metadata": {
        "id": "rC_15PrWJI4r"
      }
    },
    {
      "cell_type": "code",
      "source": [
        "import pandas as pd\n",
        "from google.colab import drive\n",
        "drive.mount('/content/gdrive')"
      ],
      "metadata": {
        "colab": {
          "base_uri": "https://localhost:8080/"
        },
        "id": "fTCvacfp_KZx",
        "outputId": "2f777624-e7fe-4e64-99b2-8dab7ac2fe11"
      },
      "execution_count": 1,
      "outputs": [
        {
          "output_type": "stream",
          "name": "stdout",
          "text": [
            "Drive already mounted at /content/gdrive; to attempt to forcibly remount, call drive.mount(\"/content/gdrive\", force_remount=True).\n"
          ]
        }
      ]
    },
    {
      "cell_type": "markdown",
      "source": [
        "## *Carregando Dados*"
      ],
      "metadata": {
        "id": "YMtCVzoEpRIF"
      }
    },
    {
      "cell_type": "code",
      "source": [
        "# url a importar\n",
        "url_dados = \"/content/gdrive/MyDrive/\" + \"datasets/microdados2021_arq43.txt\"\n",
        "\n",
        "\n",
        "# carga do dataset através do csv\n",
        "enade = pd.read_csv(url_dados, delimiter=';', encoding='ISO-8859-1')\n",
        "\n",
        "# verifica o tipo\n",
        "print(type(enade))\n"
      ],
      "metadata": {
        "colab": {
          "base_uri": "https://localhost:8080/"
        },
        "id": "kn-ssWqa06yq",
        "outputId": "bfe95be9-9d74-46dc-c4cb-e20d5199d579"
      },
      "execution_count": 2,
      "outputs": [
        {
          "output_type": "stream",
          "name": "stdout",
          "text": [
            "<class 'pandas.core.frame.DataFrame'>\n"
          ]
        }
      ]
    },
    {
      "cell_type": "markdown",
      "source": [
        "## **Inicio da Análise Exploratória**"
      ],
      "metadata": {
        "id": "hXU9eJbiqMK6"
      }
    },
    {
      "cell_type": "code",
      "source": [
        "# Dimensões do dataset\n",
        "enade.shape"
      ],
      "metadata": {
        "colab": {
          "base_uri": "https://localhost:8080/"
        },
        "id": "zdRQsJWgqTDb",
        "outputId": "c7e3ee20-5587-4d57-b62a-264113d6f251"
      },
      "execution_count": 3,
      "outputs": [
        {
          "output_type": "execute_result",
          "data": {
            "text/plain": [
              "(489866, 13)"
            ]
          },
          "metadata": {},
          "execution_count": 3
        }
      ]
    },
    {
      "cell_type": "code",
      "source": [
        "# exibe as 5 primeiras linhas\n",
        "enade.head()"
      ],
      "metadata": {
        "colab": {
          "base_uri": "https://localhost:8080/",
          "height": 206
        },
        "id": "SbMi92nI6G_w",
        "outputId": "66e69af5-ba2c-43f5-d094-4850cb531423"
      },
      "execution_count": 4,
      "outputs": [
        {
          "output_type": "execute_result",
          "data": {
            "text/plain": [
              "   NU_ANO  CO_CURSO  QE_I82  QE_I83  QE_I84  QE_I85  QE_I86  QE_I87  QE_I88  \\\n",
              "0    2021     73192     1.0     6.0     5.0     5.0     5.0     6.0     4.0   \n",
              "1    2021     12690     1.0     7.0     6.0     8.0     4.0     4.0     2.0   \n",
              "2    2021     14224     1.0     2.0     4.0     1.0     6.0     4.0     2.0   \n",
              "3    2021     44947     1.0     1.0     1.0     1.0     1.0     1.0     1.0   \n",
              "4    2021     69747     1.0     3.0     1.0     8.0     8.0     2.0     1.0   \n",
              "\n",
              "   QE_I89  QE_I90  QE_I91  QE_I92  \n",
              "0     6.0     6.0     6.0     6.0  \n",
              "1     2.0     6.0     1.0     6.0  \n",
              "2     2.0     2.0     6.0     6.0  \n",
              "3     1.0     1.0     1.0     1.0  \n",
              "4     8.0     8.0     8.0     1.0  "
            ],
            "text/html": [
              "\n",
              "  <div id=\"df-f7160a8f-ecd2-4258-bcb5-b5aa55254671\">\n",
              "    <div class=\"colab-df-container\">\n",
              "      <div>\n",
              "<style scoped>\n",
              "    .dataframe tbody tr th:only-of-type {\n",
              "        vertical-align: middle;\n",
              "    }\n",
              "\n",
              "    .dataframe tbody tr th {\n",
              "        vertical-align: top;\n",
              "    }\n",
              "\n",
              "    .dataframe thead th {\n",
              "        text-align: right;\n",
              "    }\n",
              "</style>\n",
              "<table border=\"1\" class=\"dataframe\">\n",
              "  <thead>\n",
              "    <tr style=\"text-align: right;\">\n",
              "      <th></th>\n",
              "      <th>NU_ANO</th>\n",
              "      <th>CO_CURSO</th>\n",
              "      <th>QE_I82</th>\n",
              "      <th>QE_I83</th>\n",
              "      <th>QE_I84</th>\n",
              "      <th>QE_I85</th>\n",
              "      <th>QE_I86</th>\n",
              "      <th>QE_I87</th>\n",
              "      <th>QE_I88</th>\n",
              "      <th>QE_I89</th>\n",
              "      <th>QE_I90</th>\n",
              "      <th>QE_I91</th>\n",
              "      <th>QE_I92</th>\n",
              "    </tr>\n",
              "  </thead>\n",
              "  <tbody>\n",
              "    <tr>\n",
              "      <th>0</th>\n",
              "      <td>2021</td>\n",
              "      <td>73192</td>\n",
              "      <td>1.0</td>\n",
              "      <td>6.0</td>\n",
              "      <td>5.0</td>\n",
              "      <td>5.0</td>\n",
              "      <td>5.0</td>\n",
              "      <td>6.0</td>\n",
              "      <td>4.0</td>\n",
              "      <td>6.0</td>\n",
              "      <td>6.0</td>\n",
              "      <td>6.0</td>\n",
              "      <td>6.0</td>\n",
              "    </tr>\n",
              "    <tr>\n",
              "      <th>1</th>\n",
              "      <td>2021</td>\n",
              "      <td>12690</td>\n",
              "      <td>1.0</td>\n",
              "      <td>7.0</td>\n",
              "      <td>6.0</td>\n",
              "      <td>8.0</td>\n",
              "      <td>4.0</td>\n",
              "      <td>4.0</td>\n",
              "      <td>2.0</td>\n",
              "      <td>2.0</td>\n",
              "      <td>6.0</td>\n",
              "      <td>1.0</td>\n",
              "      <td>6.0</td>\n",
              "    </tr>\n",
              "    <tr>\n",
              "      <th>2</th>\n",
              "      <td>2021</td>\n",
              "      <td>14224</td>\n",
              "      <td>1.0</td>\n",
              "      <td>2.0</td>\n",
              "      <td>4.0</td>\n",
              "      <td>1.0</td>\n",
              "      <td>6.0</td>\n",
              "      <td>4.0</td>\n",
              "      <td>2.0</td>\n",
              "      <td>2.0</td>\n",
              "      <td>2.0</td>\n",
              "      <td>6.0</td>\n",
              "      <td>6.0</td>\n",
              "    </tr>\n",
              "    <tr>\n",
              "      <th>3</th>\n",
              "      <td>2021</td>\n",
              "      <td>44947</td>\n",
              "      <td>1.0</td>\n",
              "      <td>1.0</td>\n",
              "      <td>1.0</td>\n",
              "      <td>1.0</td>\n",
              "      <td>1.0</td>\n",
              "      <td>1.0</td>\n",
              "      <td>1.0</td>\n",
              "      <td>1.0</td>\n",
              "      <td>1.0</td>\n",
              "      <td>1.0</td>\n",
              "      <td>1.0</td>\n",
              "    </tr>\n",
              "    <tr>\n",
              "      <th>4</th>\n",
              "      <td>2021</td>\n",
              "      <td>69747</td>\n",
              "      <td>1.0</td>\n",
              "      <td>3.0</td>\n",
              "      <td>1.0</td>\n",
              "      <td>8.0</td>\n",
              "      <td>8.0</td>\n",
              "      <td>2.0</td>\n",
              "      <td>1.0</td>\n",
              "      <td>8.0</td>\n",
              "      <td>8.0</td>\n",
              "      <td>8.0</td>\n",
              "      <td>1.0</td>\n",
              "    </tr>\n",
              "  </tbody>\n",
              "</table>\n",
              "</div>\n",
              "      <button class=\"colab-df-convert\" onclick=\"convertToInteractive('df-f7160a8f-ecd2-4258-bcb5-b5aa55254671')\"\n",
              "              title=\"Convert this dataframe to an interactive table.\"\n",
              "              style=\"display:none;\">\n",
              "        \n",
              "  <svg xmlns=\"http://www.w3.org/2000/svg\" height=\"24px\"viewBox=\"0 0 24 24\"\n",
              "       width=\"24px\">\n",
              "    <path d=\"M0 0h24v24H0V0z\" fill=\"none\"/>\n",
              "    <path d=\"M18.56 5.44l.94 2.06.94-2.06 2.06-.94-2.06-.94-.94-2.06-.94 2.06-2.06.94zm-11 1L8.5 8.5l.94-2.06 2.06-.94-2.06-.94L8.5 2.5l-.94 2.06-2.06.94zm10 10l.94 2.06.94-2.06 2.06-.94-2.06-.94-.94-2.06-.94 2.06-2.06.94z\"/><path d=\"M17.41 7.96l-1.37-1.37c-.4-.4-.92-.59-1.43-.59-.52 0-1.04.2-1.43.59L10.3 9.45l-7.72 7.72c-.78.78-.78 2.05 0 2.83L4 21.41c.39.39.9.59 1.41.59.51 0 1.02-.2 1.41-.59l7.78-7.78 2.81-2.81c.8-.78.8-2.07 0-2.86zM5.41 20L4 18.59l7.72-7.72 1.47 1.35L5.41 20z\"/>\n",
              "  </svg>\n",
              "      </button>\n",
              "      \n",
              "  <style>\n",
              "    .colab-df-container {\n",
              "      display:flex;\n",
              "      flex-wrap:wrap;\n",
              "      gap: 12px;\n",
              "    }\n",
              "\n",
              "    .colab-df-convert {\n",
              "      background-color: #E8F0FE;\n",
              "      border: none;\n",
              "      border-radius: 50%;\n",
              "      cursor: pointer;\n",
              "      display: none;\n",
              "      fill: #1967D2;\n",
              "      height: 32px;\n",
              "      padding: 0 0 0 0;\n",
              "      width: 32px;\n",
              "    }\n",
              "\n",
              "    .colab-df-convert:hover {\n",
              "      background-color: #E2EBFA;\n",
              "      box-shadow: 0px 1px 2px rgba(60, 64, 67, 0.3), 0px 1px 3px 1px rgba(60, 64, 67, 0.15);\n",
              "      fill: #174EA6;\n",
              "    }\n",
              "\n",
              "    [theme=dark] .colab-df-convert {\n",
              "      background-color: #3B4455;\n",
              "      fill: #D2E3FC;\n",
              "    }\n",
              "\n",
              "    [theme=dark] .colab-df-convert:hover {\n",
              "      background-color: #434B5C;\n",
              "      box-shadow: 0px 1px 3px 1px rgba(0, 0, 0, 0.15);\n",
              "      filter: drop-shadow(0px 1px 2px rgba(0, 0, 0, 0.3));\n",
              "      fill: #FFFFFF;\n",
              "    }\n",
              "  </style>\n",
              "\n",
              "      <script>\n",
              "        const buttonEl =\n",
              "          document.querySelector('#df-f7160a8f-ecd2-4258-bcb5-b5aa55254671 button.colab-df-convert');\n",
              "        buttonEl.style.display =\n",
              "          google.colab.kernel.accessAllowed ? 'block' : 'none';\n",
              "\n",
              "        async function convertToInteractive(key) {\n",
              "          const element = document.querySelector('#df-f7160a8f-ecd2-4258-bcb5-b5aa55254671');\n",
              "          const dataTable =\n",
              "            await google.colab.kernel.invokeFunction('convertToInteractive',\n",
              "                                                     [key], {});\n",
              "          if (!dataTable) return;\n",
              "\n",
              "          const docLinkHtml = 'Like what you see? Visit the ' +\n",
              "            '<a target=\"_blank\" href=https://colab.research.google.com/notebooks/data_table.ipynb>data table notebook</a>'\n",
              "            + ' to learn more about interactive tables.';\n",
              "          element.innerHTML = '';\n",
              "          dataTable['output_type'] = 'display_data';\n",
              "          await google.colab.output.renderOutput(dataTable, element);\n",
              "          const docLink = document.createElement('div');\n",
              "          docLink.innerHTML = docLinkHtml;\n",
              "          element.appendChild(docLink);\n",
              "        }\n",
              "      </script>\n",
              "    </div>\n",
              "  </div>\n",
              "  "
            ]
          },
          "metadata": {},
          "execution_count": 4
        }
      ]
    },
    {
      "cell_type": "code",
      "source": [
        "# exibe as 5 últimas linhas\n",
        "enade.tail()"
      ],
      "metadata": {
        "colab": {
          "base_uri": "https://localhost:8080/",
          "height": 206
        },
        "id": "Ps2hHN765BSO",
        "outputId": "2a4dd9a9-719a-4461-ecec-8c037e95787c"
      },
      "execution_count": 5,
      "outputs": [
        {
          "output_type": "execute_result",
          "data": {
            "text/plain": [
              "        NU_ANO  CO_CURSO  QE_I82  QE_I83  QE_I84  QE_I85  QE_I86  QE_I87  \\\n",
              "489861    2021     70985     NaN     NaN     NaN     NaN     NaN     NaN   \n",
              "489862    2021     70985     NaN     NaN     NaN     NaN     NaN     NaN   \n",
              "489863    2021     70985     NaN     NaN     NaN     NaN     NaN     NaN   \n",
              "489864    2021     70985     NaN     NaN     NaN     NaN     NaN     NaN   \n",
              "489865    2021     70985     NaN     NaN     NaN     NaN     NaN     NaN   \n",
              "\n",
              "        QE_I88  QE_I89  QE_I90  QE_I91  QE_I92  \n",
              "489861     NaN     NaN     NaN     NaN     NaN  \n",
              "489862     NaN     NaN     NaN     NaN     NaN  \n",
              "489863     NaN     NaN     NaN     NaN     NaN  \n",
              "489864     NaN     NaN     NaN     NaN     NaN  \n",
              "489865     NaN     NaN     NaN     NaN     NaN  "
            ],
            "text/html": [
              "\n",
              "  <div id=\"df-140d38d3-d2c2-4626-8756-ed05e4227651\">\n",
              "    <div class=\"colab-df-container\">\n",
              "      <div>\n",
              "<style scoped>\n",
              "    .dataframe tbody tr th:only-of-type {\n",
              "        vertical-align: middle;\n",
              "    }\n",
              "\n",
              "    .dataframe tbody tr th {\n",
              "        vertical-align: top;\n",
              "    }\n",
              "\n",
              "    .dataframe thead th {\n",
              "        text-align: right;\n",
              "    }\n",
              "</style>\n",
              "<table border=\"1\" class=\"dataframe\">\n",
              "  <thead>\n",
              "    <tr style=\"text-align: right;\">\n",
              "      <th></th>\n",
              "      <th>NU_ANO</th>\n",
              "      <th>CO_CURSO</th>\n",
              "      <th>QE_I82</th>\n",
              "      <th>QE_I83</th>\n",
              "      <th>QE_I84</th>\n",
              "      <th>QE_I85</th>\n",
              "      <th>QE_I86</th>\n",
              "      <th>QE_I87</th>\n",
              "      <th>QE_I88</th>\n",
              "      <th>QE_I89</th>\n",
              "      <th>QE_I90</th>\n",
              "      <th>QE_I91</th>\n",
              "      <th>QE_I92</th>\n",
              "    </tr>\n",
              "  </thead>\n",
              "  <tbody>\n",
              "    <tr>\n",
              "      <th>489861</th>\n",
              "      <td>2021</td>\n",
              "      <td>70985</td>\n",
              "      <td>NaN</td>\n",
              "      <td>NaN</td>\n",
              "      <td>NaN</td>\n",
              "      <td>NaN</td>\n",
              "      <td>NaN</td>\n",
              "      <td>NaN</td>\n",
              "      <td>NaN</td>\n",
              "      <td>NaN</td>\n",
              "      <td>NaN</td>\n",
              "      <td>NaN</td>\n",
              "      <td>NaN</td>\n",
              "    </tr>\n",
              "    <tr>\n",
              "      <th>489862</th>\n",
              "      <td>2021</td>\n",
              "      <td>70985</td>\n",
              "      <td>NaN</td>\n",
              "      <td>NaN</td>\n",
              "      <td>NaN</td>\n",
              "      <td>NaN</td>\n",
              "      <td>NaN</td>\n",
              "      <td>NaN</td>\n",
              "      <td>NaN</td>\n",
              "      <td>NaN</td>\n",
              "      <td>NaN</td>\n",
              "      <td>NaN</td>\n",
              "      <td>NaN</td>\n",
              "    </tr>\n",
              "    <tr>\n",
              "      <th>489863</th>\n",
              "      <td>2021</td>\n",
              "      <td>70985</td>\n",
              "      <td>NaN</td>\n",
              "      <td>NaN</td>\n",
              "      <td>NaN</td>\n",
              "      <td>NaN</td>\n",
              "      <td>NaN</td>\n",
              "      <td>NaN</td>\n",
              "      <td>NaN</td>\n",
              "      <td>NaN</td>\n",
              "      <td>NaN</td>\n",
              "      <td>NaN</td>\n",
              "      <td>NaN</td>\n",
              "    </tr>\n",
              "    <tr>\n",
              "      <th>489864</th>\n",
              "      <td>2021</td>\n",
              "      <td>70985</td>\n",
              "      <td>NaN</td>\n",
              "      <td>NaN</td>\n",
              "      <td>NaN</td>\n",
              "      <td>NaN</td>\n",
              "      <td>NaN</td>\n",
              "      <td>NaN</td>\n",
              "      <td>NaN</td>\n",
              "      <td>NaN</td>\n",
              "      <td>NaN</td>\n",
              "      <td>NaN</td>\n",
              "      <td>NaN</td>\n",
              "    </tr>\n",
              "    <tr>\n",
              "      <th>489865</th>\n",
              "      <td>2021</td>\n",
              "      <td>70985</td>\n",
              "      <td>NaN</td>\n",
              "      <td>NaN</td>\n",
              "      <td>NaN</td>\n",
              "      <td>NaN</td>\n",
              "      <td>NaN</td>\n",
              "      <td>NaN</td>\n",
              "      <td>NaN</td>\n",
              "      <td>NaN</td>\n",
              "      <td>NaN</td>\n",
              "      <td>NaN</td>\n",
              "      <td>NaN</td>\n",
              "    </tr>\n",
              "  </tbody>\n",
              "</table>\n",
              "</div>\n",
              "      <button class=\"colab-df-convert\" onclick=\"convertToInteractive('df-140d38d3-d2c2-4626-8756-ed05e4227651')\"\n",
              "              title=\"Convert this dataframe to an interactive table.\"\n",
              "              style=\"display:none;\">\n",
              "        \n",
              "  <svg xmlns=\"http://www.w3.org/2000/svg\" height=\"24px\"viewBox=\"0 0 24 24\"\n",
              "       width=\"24px\">\n",
              "    <path d=\"M0 0h24v24H0V0z\" fill=\"none\"/>\n",
              "    <path d=\"M18.56 5.44l.94 2.06.94-2.06 2.06-.94-2.06-.94-.94-2.06-.94 2.06-2.06.94zm-11 1L8.5 8.5l.94-2.06 2.06-.94-2.06-.94L8.5 2.5l-.94 2.06-2.06.94zm10 10l.94 2.06.94-2.06 2.06-.94-2.06-.94-.94-2.06-.94 2.06-2.06.94z\"/><path d=\"M17.41 7.96l-1.37-1.37c-.4-.4-.92-.59-1.43-.59-.52 0-1.04.2-1.43.59L10.3 9.45l-7.72 7.72c-.78.78-.78 2.05 0 2.83L4 21.41c.39.39.9.59 1.41.59.51 0 1.02-.2 1.41-.59l7.78-7.78 2.81-2.81c.8-.78.8-2.07 0-2.86zM5.41 20L4 18.59l7.72-7.72 1.47 1.35L5.41 20z\"/>\n",
              "  </svg>\n",
              "      </button>\n",
              "      \n",
              "  <style>\n",
              "    .colab-df-container {\n",
              "      display:flex;\n",
              "      flex-wrap:wrap;\n",
              "      gap: 12px;\n",
              "    }\n",
              "\n",
              "    .colab-df-convert {\n",
              "      background-color: #E8F0FE;\n",
              "      border: none;\n",
              "      border-radius: 50%;\n",
              "      cursor: pointer;\n",
              "      display: none;\n",
              "      fill: #1967D2;\n",
              "      height: 32px;\n",
              "      padding: 0 0 0 0;\n",
              "      width: 32px;\n",
              "    }\n",
              "\n",
              "    .colab-df-convert:hover {\n",
              "      background-color: #E2EBFA;\n",
              "      box-shadow: 0px 1px 2px rgba(60, 64, 67, 0.3), 0px 1px 3px 1px rgba(60, 64, 67, 0.15);\n",
              "      fill: #174EA6;\n",
              "    }\n",
              "\n",
              "    [theme=dark] .colab-df-convert {\n",
              "      background-color: #3B4455;\n",
              "      fill: #D2E3FC;\n",
              "    }\n",
              "\n",
              "    [theme=dark] .colab-df-convert:hover {\n",
              "      background-color: #434B5C;\n",
              "      box-shadow: 0px 1px 3px 1px rgba(0, 0, 0, 0.15);\n",
              "      filter: drop-shadow(0px 1px 2px rgba(0, 0, 0, 0.3));\n",
              "      fill: #FFFFFF;\n",
              "    }\n",
              "  </style>\n",
              "\n",
              "      <script>\n",
              "        const buttonEl =\n",
              "          document.querySelector('#df-140d38d3-d2c2-4626-8756-ed05e4227651 button.colab-df-convert');\n",
              "        buttonEl.style.display =\n",
              "          google.colab.kernel.accessAllowed ? 'block' : 'none';\n",
              "\n",
              "        async function convertToInteractive(key) {\n",
              "          const element = document.querySelector('#df-140d38d3-d2c2-4626-8756-ed05e4227651');\n",
              "          const dataTable =\n",
              "            await google.colab.kernel.invokeFunction('convertToInteractive',\n",
              "                                                     [key], {});\n",
              "          if (!dataTable) return;\n",
              "\n",
              "          const docLinkHtml = 'Like what you see? Visit the ' +\n",
              "            '<a target=\"_blank\" href=https://colab.research.google.com/notebooks/data_table.ipynb>data table notebook</a>'\n",
              "            + ' to learn more about interactive tables.';\n",
              "          element.innerHTML = '';\n",
              "          dataTable['output_type'] = 'display_data';\n",
              "          await google.colab.output.renderOutput(dataTable, element);\n",
              "          const docLink = document.createElement('div');\n",
              "          docLink.innerHTML = docLinkHtml;\n",
              "          element.appendChild(docLink);\n",
              "        }\n",
              "      </script>\n",
              "    </div>\n",
              "  </div>\n",
              "  "
            ]
          },
          "metadata": {},
          "execution_count": 5
        }
      ]
    },
    {
      "cell_type": "code",
      "source": [
        "# Mostra as informações do dataset\n",
        "enade.info()"
      ],
      "metadata": {
        "colab": {
          "base_uri": "https://localhost:8080/"
        },
        "id": "7zrH06O16pDx",
        "outputId": "e772c8e8-f12a-4f9e-8d1a-9fa6c8a78123"
      },
      "execution_count": 6,
      "outputs": [
        {
          "output_type": "stream",
          "name": "stdout",
          "text": [
            "<class 'pandas.core.frame.DataFrame'>\n",
            "RangeIndex: 489866 entries, 0 to 489865\n",
            "Data columns (total 13 columns):\n",
            " #   Column    Non-Null Count   Dtype  \n",
            "---  ------    --------------   -----  \n",
            " 0   NU_ANO    489866 non-null  int64  \n",
            " 1   CO_CURSO  489866 non-null  int64  \n",
            " 2   QE_I82    408956 non-null  float64\n",
            " 3   QE_I83    408956 non-null  float64\n",
            " 4   QE_I84    408956 non-null  float64\n",
            " 5   QE_I85    408953 non-null  float64\n",
            " 6   QE_I86    408956 non-null  float64\n",
            " 7   QE_I87    408956 non-null  float64\n",
            " 8   QE_I88    408954 non-null  float64\n",
            " 9   QE_I89    408955 non-null  float64\n",
            " 10  QE_I90    408954 non-null  float64\n",
            " 11  QE_I91    408956 non-null  float64\n",
            " 12  QE_I92    408954 non-null  float64\n",
            "dtypes: float64(11), int64(2)\n",
            "memory usage: 48.6 MB\n"
          ]
        }
      ]
    },
    {
      "cell_type": "markdown",
      "source": [
        "O dataset é massivo com 52 colunas e cerca de 500k linhas. "
      ],
      "metadata": {
        "id": "-tdx4VPnBMfe"
      }
    },
    {
      "cell_type": "code",
      "source": [
        "# Nome das colunas\n",
        "enade.columns"
      ],
      "metadata": {
        "colab": {
          "base_uri": "https://localhost:8080/"
        },
        "id": "n7vKhvgo5kRe",
        "outputId": "2b9b6e16-9efb-4187-ed2b-ece9348b5b21"
      },
      "execution_count": 7,
      "outputs": [
        {
          "output_type": "execute_result",
          "data": {
            "text/plain": [
              "Index(['NU_ANO', 'CO_CURSO', 'QE_I82', 'QE_I83', 'QE_I84', 'QE_I85', 'QE_I86',\n",
              "       'QE_I87', 'QE_I88', 'QE_I89', 'QE_I90', 'QE_I91', 'QE_I92'],\n",
              "      dtype='object')"
            ]
          },
          "metadata": {},
          "execution_count": 7
        }
      ]
    },
    {
      "cell_type": "code",
      "source": [
        "# exibindo a quantidade de linhas por coluna\n",
        "enade.count()"
      ],
      "metadata": {
        "colab": {
          "base_uri": "https://localhost:8080/"
        },
        "id": "oHYdzQ5w6Vkl",
        "outputId": "ff5bf182-ab59-4795-ac4e-6f54886eb51a"
      },
      "execution_count": 8,
      "outputs": [
        {
          "output_type": "execute_result",
          "data": {
            "text/plain": [
              "NU_ANO      489866\n",
              "CO_CURSO    489866\n",
              "QE_I82      408956\n",
              "QE_I83      408956\n",
              "QE_I84      408956\n",
              "QE_I85      408953\n",
              "QE_I86      408956\n",
              "QE_I87      408956\n",
              "QE_I88      408954\n",
              "QE_I89      408955\n",
              "QE_I90      408954\n",
              "QE_I91      408956\n",
              "QE_I92      408954\n",
              "dtype: int64"
            ]
          },
          "metadata": {},
          "execution_count": 8
        }
      ]
    },
    {
      "cell_type": "markdown",
      "source": [
        "Observa-se diversas colunas em branco, referente a questões do questionario não respondidas"
      ],
      "metadata": {
        "id": "zNbGXK8CB9FH"
      }
    },
    {
      "cell_type": "code",
      "source": [
        "# número de valores ausentes nas colunas\n",
        "enade.isnull().sum()"
      ],
      "metadata": {
        "colab": {
          "base_uri": "https://localhost:8080/"
        },
        "id": "oVIgzrD3AjuL",
        "outputId": "61d027b1-2119-4d60-af0a-e0f337181b88"
      },
      "execution_count": 9,
      "outputs": [
        {
          "output_type": "execute_result",
          "data": {
            "text/plain": [
              "NU_ANO          0\n",
              "CO_CURSO        0\n",
              "QE_I82      80910\n",
              "QE_I83      80910\n",
              "QE_I84      80910\n",
              "QE_I85      80913\n",
              "QE_I86      80910\n",
              "QE_I87      80910\n",
              "QE_I88      80912\n",
              "QE_I89      80911\n",
              "QE_I90      80912\n",
              "QE_I91      80910\n",
              "QE_I92      80912\n",
              "dtype: int64"
            ]
          },
          "metadata": {},
          "execution_count": 9
        }
      ]
    },
    {
      "cell_type": "code",
      "source": [
        "# exibindo um sumário estatístico\n",
        "enade.describe()"
      ],
      "metadata": {
        "colab": {
          "base_uri": "https://localhost:8080/",
          "height": 344
        },
        "id": "LMzf9wuv6dB-",
        "outputId": "068c934a-1b03-4729-955d-bb5efef90a0e"
      },
      "execution_count": 10,
      "outputs": [
        {
          "output_type": "execute_result",
          "data": {
            "text/plain": [
              "         NU_ANO      CO_CURSO         QE_I82         QE_I83         QE_I84  \\\n",
              "count  489866.0  4.898660e+05  408956.000000  408956.000000  408956.000000   \n",
              "mean     2021.0  5.830854e+05       5.208198       5.300223       5.334356   \n",
              "std         0.0  7.605381e+05       1.663263       1.616078       1.428498   \n",
              "min      2021.0  6.000000e+00       1.000000       1.000000       1.000000   \n",
              "25%      2021.0  8.728000e+04       5.000000       5.000000       5.000000   \n",
              "50%      2021.0  1.076330e+05       6.000000       6.000000       6.000000   \n",
              "75%      2021.0  1.202856e+06       6.000000       6.000000       6.000000   \n",
              "max      2021.0  5.001487e+06       8.000000       8.000000       8.000000   \n",
              "\n",
              "              QE_I85         QE_I86         QE_I87         QE_I88  \\\n",
              "count  408953.000000  408956.000000  408956.000000  408954.000000   \n",
              "mean        5.630420       5.324981       5.205890       5.159561   \n",
              "std         1.705644       1.884109       1.383198       1.416725   \n",
              "min         1.000000       1.000000       1.000000       1.000000   \n",
              "25%         5.000000       4.000000       5.000000       4.000000   \n",
              "50%         6.000000       6.000000       6.000000       6.000000   \n",
              "75%         7.000000       6.000000       6.000000       6.000000   \n",
              "max         8.000000       8.000000       8.000000       8.000000   \n",
              "\n",
              "              QE_I89         QE_I90         QE_I91         QE_I92  \n",
              "count  408955.000000  408954.000000  408956.000000  408954.000000  \n",
              "mean        5.131462       5.148467       4.164612       3.962947  \n",
              "std         1.492181       1.508984       2.333157       2.576496  \n",
              "min         1.000000       1.000000       1.000000       1.000000  \n",
              "25%         4.000000       4.000000       2.000000       1.000000  \n",
              "50%         6.000000       6.000000       4.000000       4.000000  \n",
              "75%         6.000000       6.000000       6.000000       6.000000  \n",
              "max         8.000000       8.000000       8.000000       8.000000  "
            ],
            "text/html": [
              "\n",
              "  <div id=\"df-62cf3e81-cba1-46fd-8ee8-844e9feaf505\">\n",
              "    <div class=\"colab-df-container\">\n",
              "      <div>\n",
              "<style scoped>\n",
              "    .dataframe tbody tr th:only-of-type {\n",
              "        vertical-align: middle;\n",
              "    }\n",
              "\n",
              "    .dataframe tbody tr th {\n",
              "        vertical-align: top;\n",
              "    }\n",
              "\n",
              "    .dataframe thead th {\n",
              "        text-align: right;\n",
              "    }\n",
              "</style>\n",
              "<table border=\"1\" class=\"dataframe\">\n",
              "  <thead>\n",
              "    <tr style=\"text-align: right;\">\n",
              "      <th></th>\n",
              "      <th>NU_ANO</th>\n",
              "      <th>CO_CURSO</th>\n",
              "      <th>QE_I82</th>\n",
              "      <th>QE_I83</th>\n",
              "      <th>QE_I84</th>\n",
              "      <th>QE_I85</th>\n",
              "      <th>QE_I86</th>\n",
              "      <th>QE_I87</th>\n",
              "      <th>QE_I88</th>\n",
              "      <th>QE_I89</th>\n",
              "      <th>QE_I90</th>\n",
              "      <th>QE_I91</th>\n",
              "      <th>QE_I92</th>\n",
              "    </tr>\n",
              "  </thead>\n",
              "  <tbody>\n",
              "    <tr>\n",
              "      <th>count</th>\n",
              "      <td>489866.0</td>\n",
              "      <td>4.898660e+05</td>\n",
              "      <td>408956.000000</td>\n",
              "      <td>408956.000000</td>\n",
              "      <td>408956.000000</td>\n",
              "      <td>408953.000000</td>\n",
              "      <td>408956.000000</td>\n",
              "      <td>408956.000000</td>\n",
              "      <td>408954.000000</td>\n",
              "      <td>408955.000000</td>\n",
              "      <td>408954.000000</td>\n",
              "      <td>408956.000000</td>\n",
              "      <td>408954.000000</td>\n",
              "    </tr>\n",
              "    <tr>\n",
              "      <th>mean</th>\n",
              "      <td>2021.0</td>\n",
              "      <td>5.830854e+05</td>\n",
              "      <td>5.208198</td>\n",
              "      <td>5.300223</td>\n",
              "      <td>5.334356</td>\n",
              "      <td>5.630420</td>\n",
              "      <td>5.324981</td>\n",
              "      <td>5.205890</td>\n",
              "      <td>5.159561</td>\n",
              "      <td>5.131462</td>\n",
              "      <td>5.148467</td>\n",
              "      <td>4.164612</td>\n",
              "      <td>3.962947</td>\n",
              "    </tr>\n",
              "    <tr>\n",
              "      <th>std</th>\n",
              "      <td>0.0</td>\n",
              "      <td>7.605381e+05</td>\n",
              "      <td>1.663263</td>\n",
              "      <td>1.616078</td>\n",
              "      <td>1.428498</td>\n",
              "      <td>1.705644</td>\n",
              "      <td>1.884109</td>\n",
              "      <td>1.383198</td>\n",
              "      <td>1.416725</td>\n",
              "      <td>1.492181</td>\n",
              "      <td>1.508984</td>\n",
              "      <td>2.333157</td>\n",
              "      <td>2.576496</td>\n",
              "    </tr>\n",
              "    <tr>\n",
              "      <th>min</th>\n",
              "      <td>2021.0</td>\n",
              "      <td>6.000000e+00</td>\n",
              "      <td>1.000000</td>\n",
              "      <td>1.000000</td>\n",
              "      <td>1.000000</td>\n",
              "      <td>1.000000</td>\n",
              "      <td>1.000000</td>\n",
              "      <td>1.000000</td>\n",
              "      <td>1.000000</td>\n",
              "      <td>1.000000</td>\n",
              "      <td>1.000000</td>\n",
              "      <td>1.000000</td>\n",
              "      <td>1.000000</td>\n",
              "    </tr>\n",
              "    <tr>\n",
              "      <th>25%</th>\n",
              "      <td>2021.0</td>\n",
              "      <td>8.728000e+04</td>\n",
              "      <td>5.000000</td>\n",
              "      <td>5.000000</td>\n",
              "      <td>5.000000</td>\n",
              "      <td>5.000000</td>\n",
              "      <td>4.000000</td>\n",
              "      <td>5.000000</td>\n",
              "      <td>4.000000</td>\n",
              "      <td>4.000000</td>\n",
              "      <td>4.000000</td>\n",
              "      <td>2.000000</td>\n",
              "      <td>1.000000</td>\n",
              "    </tr>\n",
              "    <tr>\n",
              "      <th>50%</th>\n",
              "      <td>2021.0</td>\n",
              "      <td>1.076330e+05</td>\n",
              "      <td>6.000000</td>\n",
              "      <td>6.000000</td>\n",
              "      <td>6.000000</td>\n",
              "      <td>6.000000</td>\n",
              "      <td>6.000000</td>\n",
              "      <td>6.000000</td>\n",
              "      <td>6.000000</td>\n",
              "      <td>6.000000</td>\n",
              "      <td>6.000000</td>\n",
              "      <td>4.000000</td>\n",
              "      <td>4.000000</td>\n",
              "    </tr>\n",
              "    <tr>\n",
              "      <th>75%</th>\n",
              "      <td>2021.0</td>\n",
              "      <td>1.202856e+06</td>\n",
              "      <td>6.000000</td>\n",
              "      <td>6.000000</td>\n",
              "      <td>6.000000</td>\n",
              "      <td>7.000000</td>\n",
              "      <td>6.000000</td>\n",
              "      <td>6.000000</td>\n",
              "      <td>6.000000</td>\n",
              "      <td>6.000000</td>\n",
              "      <td>6.000000</td>\n",
              "      <td>6.000000</td>\n",
              "      <td>6.000000</td>\n",
              "    </tr>\n",
              "    <tr>\n",
              "      <th>max</th>\n",
              "      <td>2021.0</td>\n",
              "      <td>5.001487e+06</td>\n",
              "      <td>8.000000</td>\n",
              "      <td>8.000000</td>\n",
              "      <td>8.000000</td>\n",
              "      <td>8.000000</td>\n",
              "      <td>8.000000</td>\n",
              "      <td>8.000000</td>\n",
              "      <td>8.000000</td>\n",
              "      <td>8.000000</td>\n",
              "      <td>8.000000</td>\n",
              "      <td>8.000000</td>\n",
              "      <td>8.000000</td>\n",
              "    </tr>\n",
              "  </tbody>\n",
              "</table>\n",
              "</div>\n",
              "      <button class=\"colab-df-convert\" onclick=\"convertToInteractive('df-62cf3e81-cba1-46fd-8ee8-844e9feaf505')\"\n",
              "              title=\"Convert this dataframe to an interactive table.\"\n",
              "              style=\"display:none;\">\n",
              "        \n",
              "  <svg xmlns=\"http://www.w3.org/2000/svg\" height=\"24px\"viewBox=\"0 0 24 24\"\n",
              "       width=\"24px\">\n",
              "    <path d=\"M0 0h24v24H0V0z\" fill=\"none\"/>\n",
              "    <path d=\"M18.56 5.44l.94 2.06.94-2.06 2.06-.94-2.06-.94-.94-2.06-.94 2.06-2.06.94zm-11 1L8.5 8.5l.94-2.06 2.06-.94-2.06-.94L8.5 2.5l-.94 2.06-2.06.94zm10 10l.94 2.06.94-2.06 2.06-.94-2.06-.94-.94-2.06-.94 2.06-2.06.94z\"/><path d=\"M17.41 7.96l-1.37-1.37c-.4-.4-.92-.59-1.43-.59-.52 0-1.04.2-1.43.59L10.3 9.45l-7.72 7.72c-.78.78-.78 2.05 0 2.83L4 21.41c.39.39.9.59 1.41.59.51 0 1.02-.2 1.41-.59l7.78-7.78 2.81-2.81c.8-.78.8-2.07 0-2.86zM5.41 20L4 18.59l7.72-7.72 1.47 1.35L5.41 20z\"/>\n",
              "  </svg>\n",
              "      </button>\n",
              "      \n",
              "  <style>\n",
              "    .colab-df-container {\n",
              "      display:flex;\n",
              "      flex-wrap:wrap;\n",
              "      gap: 12px;\n",
              "    }\n",
              "\n",
              "    .colab-df-convert {\n",
              "      background-color: #E8F0FE;\n",
              "      border: none;\n",
              "      border-radius: 50%;\n",
              "      cursor: pointer;\n",
              "      display: none;\n",
              "      fill: #1967D2;\n",
              "      height: 32px;\n",
              "      padding: 0 0 0 0;\n",
              "      width: 32px;\n",
              "    }\n",
              "\n",
              "    .colab-df-convert:hover {\n",
              "      background-color: #E2EBFA;\n",
              "      box-shadow: 0px 1px 2px rgba(60, 64, 67, 0.3), 0px 1px 3px 1px rgba(60, 64, 67, 0.15);\n",
              "      fill: #174EA6;\n",
              "    }\n",
              "\n",
              "    [theme=dark] .colab-df-convert {\n",
              "      background-color: #3B4455;\n",
              "      fill: #D2E3FC;\n",
              "    }\n",
              "\n",
              "    [theme=dark] .colab-df-convert:hover {\n",
              "      background-color: #434B5C;\n",
              "      box-shadow: 0px 1px 3px 1px rgba(0, 0, 0, 0.15);\n",
              "      filter: drop-shadow(0px 1px 2px rgba(0, 0, 0, 0.3));\n",
              "      fill: #FFFFFF;\n",
              "    }\n",
              "  </style>\n",
              "\n",
              "      <script>\n",
              "        const buttonEl =\n",
              "          document.querySelector('#df-62cf3e81-cba1-46fd-8ee8-844e9feaf505 button.colab-df-convert');\n",
              "        buttonEl.style.display =\n",
              "          google.colab.kernel.accessAllowed ? 'block' : 'none';\n",
              "\n",
              "        async function convertToInteractive(key) {\n",
              "          const element = document.querySelector('#df-62cf3e81-cba1-46fd-8ee8-844e9feaf505');\n",
              "          const dataTable =\n",
              "            await google.colab.kernel.invokeFunction('convertToInteractive',\n",
              "                                                     [key], {});\n",
              "          if (!dataTable) return;\n",
              "\n",
              "          const docLinkHtml = 'Like what you see? Visit the ' +\n",
              "            '<a target=\"_blank\" href=https://colab.research.google.com/notebooks/data_table.ipynb>data table notebook</a>'\n",
              "            + ' to learn more about interactive tables.';\n",
              "          element.innerHTML = '';\n",
              "          dataTable['output_type'] = 'display_data';\n",
              "          await google.colab.output.renderOutput(dataTable, element);\n",
              "          const docLink = document.createElement('div');\n",
              "          docLink.innerHTML = docLinkHtml;\n",
              "          element.appendChild(docLink);\n",
              "        }\n",
              "      </script>\n",
              "    </div>\n",
              "  </div>\n",
              "  "
            ]
          },
          "metadata": {},
          "execution_count": 10
        }
      ]
    },
    {
      "cell_type": "code",
      "source": [
        "# Verifica a distribuição das classes\n",
        "enade.groupby('CO_CURSO').size()"
      ],
      "metadata": {
        "colab": {
          "base_uri": "https://localhost:8080/"
        },
        "id": "sjR-dlyAKqSz",
        "outputId": "c4239ccd-6343-4dc8-8813-e33c5a152463"
      },
      "execution_count": 11,
      "outputs": [
        {
          "output_type": "execute_result",
          "data": {
            "text/plain": [
              "CO_CURSO\n",
              "6          18\n",
              "19         34\n",
              "23         25\n",
              "24         18\n",
              "25         30\n",
              "           ..\n",
              "5001385    27\n",
              "5001409     8\n",
              "5001434    25\n",
              "5001459    35\n",
              "5001487     1\n",
              "Length: 7997, dtype: int64"
            ]
          },
          "metadata": {},
          "execution_count": 11
        }
      ]
    }
  ]
}