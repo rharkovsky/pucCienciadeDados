{
  "nbformat": 4,
  "nbformat_minor": 0,
  "metadata": {
    "colab": {
      "provenance": [],
      "toc_visible": true,
      "authorship_tag": "ABX9TyOZYvPKnBN5Kfr/fn6PeBLk",
      "include_colab_link": true
    },
    "kernelspec": {
      "name": "python3",
      "display_name": "Python 3"
    },
    "language_info": {
      "name": "python"
    }
  },
  "cells": [
    {
      "cell_type": "markdown",
      "metadata": {
        "id": "view-in-github",
        "colab_type": "text"
      },
      "source": [
        "<a href=\"https://colab.research.google.com/github/rharkovsky/pucCienciadeDados/blob/main/MVP1_Harkovsky.ipynb\" target=\"_parent\"><img src=\"https://colab.research.google.com/assets/colab-badge.svg\" alt=\"Open In Colab\"/></a>"
      ]
    },
    {
      "cell_type": "markdown",
      "source": [],
      "metadata": {
        "id": "2ZqJmzSOoNEP"
      }
    },
    {
      "cell_type": "markdown",
      "source": [
        "# **# MVP Análise Exploratória de Dados - ROBERTO HARKOVSKY**"
      ],
      "metadata": {
        "id": "f_E7Iu6zoeDl"
      }
    },
    {
      "cell_type": "markdown",
      "source": [
        "# *Configurações Iniciais*"
      ],
      "metadata": {
        "id": "6k4UoOguo-oN"
      }
    },
    {
      "cell_type": "code",
      "source": [
        "# Configuração para não exibir os warnings\n",
        "import warnings\n",
        "warnings.filterwarnings(\"ignore\")\n",
        "\n",
        "# Importação de pacotes\n",
        "import pandas as pd\n",
        "import numpy as np\n",
        "import matplotlib.pyplot as plt\n",
        "import seaborn as sns\n",
        "from matplotlib import cm"
      ],
      "metadata": {
        "id": "hMQRLNl-pLbM"
      },
      "execution_count": null,
      "outputs": []
    },
    {
      "cell_type": "markdown",
      "source": [
        "# *Carregando Dados*"
      ],
      "metadata": {
        "id": "YMtCVzoEpRIF"
      }
    },
    {
      "cell_type": "code",
      "source": [
        "# importando dados uma url para um dataframe\n",
        "\n",
        "# url a importar\n",
        "url_dados = 'https://drive.google.com/file/d/1IPpXxiil2MiSLZv2PR-bKrhbakg7F329/view?usp=share_link'\n",
        "\n",
        "# labels dos atributos do dataset\n",
        "#labels_atributos = ['comprimento_sepala', 'largura_sepala', 'comprimento_petala', 'largura_petala', 'especie']\n",
        "labels_atributos = ['NU_ANO';'CO_CURSO';'CO_IES';'CO_CATEGAD';'CO_ORGACAD';'CO_GRUPO';'CO_MODALIDADE';'CO_MUNIC_CURSO';'CO_UF_CURSO';'CO_REGIAO_CURSO']\n",
        "\n",
        "# carga do dataset através da url - há diversos parâmetros no read_csv que podem ser interessantes, como sep, usecols e header\n",
        "iris = pd.read_csv(url_dados, names=labels_atributos)"
      ],
      "metadata": {
        "id": "q--An3FPpR8-"
      },
      "execution_count": null,
      "outputs": []
    }
  ]
}